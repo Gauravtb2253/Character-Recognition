{
  "cells": [
    {
      "cell_type": "code",
      "execution_count": 1,
      "metadata": {
        "id": "td-ub3Cc9QxJ"
      },
      "outputs": [],
      "source": [
        "import numpy as np\n",
        "import numpy\n",
        "import matplotlib.pyplot as plt\n",
        "# import seaborn as sns\n",
        "import keras\n",
        "import tensorflow as tf\n",
        "from tensorflow import keras\n",
        "import numpy as np\n",
        "# from tensorflow.math import confusion_matrix\n",
        "import cv2\n",
        "import os\n",
        "import pandas as pd\n",
        "from sklearn.model_selection import train_test_split"
      ]
    },
    {
      "cell_type": "code",
      "execution_count": 2,
      "metadata": {
        "id": "le_nrzQY-MVu"
      },
      "outputs": [],
      "source": [
        "image_dir = 'Directory of the dataset'\n",
        "image_files = [f for f in os.listdir(image_dir) if f.endswith('.png')]\n",
        "image_files = sorted(image_files, key=lambda x: int(\n",
        "    x.split('.')[0]))  # sort by numerical value\n",
        "new_size = (28, 28)\n",
        "X_train = []\n",
        "for file in image_files:\n",
        "    image_path = os.path.join(image_dir, file)\n",
        "    image = cv2.imread(image_path)\n",
        "    resized_image = cv2.resize(image, new_size)\n",
        "    resized_image = cv2.cvtColor(resized_image, cv2.COLOR_BGR2GRAY)\n",
        "    X_train.append(resized_image)"
      ]
    },
    {
      "cell_type": "code",
      "execution_count": null,
      "metadata": {
        "id": "5Ul4W7_d-SaW"
      },
      "outputs": [],
      "source": [
        "plt.imshow(X_train[0])\n",
        "\n",
        "plt.imshow(X_train[350], cmap='Greys')"
      ]
    },
    {
      "cell_type": "code",
      "execution_count": 4,
      "metadata": {
        "id": "Vr7shOu5-WpH"
      },
      "outputs": [],
      "source": [
        "y_train = pd.read_csv(\"Path of label file\")\n",
        "y_train_nparray = np.array(y_train)"
      ]
    },
    {
      "cell_type": "code",
      "execution_count": null,
      "metadata": {
        "id": "DkK8Z5Z2-ZFF"
      },
      "outputs": [],
      "source": [
        "numpy.shape(X_train),y_train.shape"
      ]
    },
    {
      "cell_type": "code",
      "execution_count": null,
      "metadata": {
        "id": "3_PdszpB-bYX"
      },
      "outputs": [],
      "source": [
        "y_train_nparray.shape"
      ]
    },
    {
      "cell_type": "code",
      "execution_count": 7,
      "metadata": {
        "id": "ywCKxmV6-dfg"
      },
      "outputs": [],
      "source": [
        "X_train = np.array(X_train)\n",
        "X_train = np.expand_dims(X_train, -1)\n",
        "X_train = X_train / 255.0"
      ]
    },
    {
      "cell_type": "code",
      "execution_count": 8,
      "metadata": {
        "id": "QsyxGtFm-f8i"
      },
      "outputs": [],
      "source": [
        "X_train, X_validation, y_train, y_validation = train_test_split(\n",
        "    X_train, y_train_nparray, test_size=0.2, random_state=2020)"
      ]
    },
    {
      "cell_type": "code",
      "execution_count": null,
      "metadata": {
        "id": "5nPbr8OO-iPq"
      },
      "outputs": [],
      "source": [
        "numpy.shape(X_train),  y_train.shape, numpy.shape(X_validation), y_validation.shape"
      ]
    },
    {
      "cell_type": "code",
      "execution_count": 10,
      "metadata": {
        "id": "Q4yN4ohh-k42"
      },
      "outputs": [],
      "source": [
        "# Define the model\n",
        "cnn_model = keras.models.Sequential([\n",
        "    keras.layers.Conv2D(filters=32, kernel_size=3, strides=(\n",
        "        1, 1), padding='valid', activation='relu', input_shape=[28, 28, 1]),\n",
        "    keras.layers.MaxPooling2D(pool_size=(2, 2)),\n",
        "    keras.layers.Dropout(0.2),  # Add dropout layer to reduce overfitting\n",
        "    keras.layers.Conv2D(filters=64, kernel_size=3, strides=(\n",
        "        1, 1), padding='valid', activation='relu'),\n",
        "    keras.layers.MaxPooling2D(pool_size=(2, 2)),\n",
        "    keras.layers.Dropout(0.2),  # Add dropout layer to reduce overfitting\n",
        "    keras.layers.Flatten(),\n",
        "    keras.layers.Dense(units=128, activation='relu'),\n",
        "    keras.layers.Dropout(0.2),  # Add dropout layer to reduce overfitting\n",
        "    keras.layers.Dense(units=63, activation='softmax')\n",
        "])"
      ]
    },
    {
      "cell_type": "code",
      "execution_count": null,
      "metadata": {
        "id": "u8G56lmO-nNu"
      },
      "outputs": [],
      "source": [
        "cnn_model.summary()"
      ]
    },
    {
      "cell_type": "code",
      "execution_count": 12,
      "metadata": {
        "id": "N6sqXRMF-qmj"
      },
      "outputs": [],
      "source": [
        "cnn_model.compile(optimizer='adam',loss='sparse_categorical_crossentropy', metrics=['accuracy'])"
      ]
    },
    {
      "cell_type": "code",
      "execution_count": null,
      "metadata": {
        "id": "WteLxyjT-sj3"
      },
      "outputs": [],
      "source": [
        "cnn_model.fit(X_train, y_train, epochs=30, validation_split=0.1)"
      ]
    },
    {
      "cell_type": "code",
      "execution_count": null,
      "metadata": {
        "id": "55F6JhYn-ueJ"
      },
      "outputs": [],
      "source": [
        "loss, accuracy = cnn_model.evaluate(X_validation, y_validation)\n",
        "print('Validation accuracy:', accuracy)"
      ]
    },
    {
      "cell_type": "code",
      "execution_count": null,
      "metadata": {
        "id": "4CSMU5Xr-usI"
      },
      "outputs": [],
      "source": [
        "Y_pred = cnn_model.predict(X_validation)"
      ]
    },
    {
      "cell_type": "code",
      "execution_count": null,
      "metadata": {
        "id": "4yqPZ2T0-zzd"
      },
      "outputs": [],
      "source": [
        "print(X_validation.shape)\n",
        "# first data point in X_test\n",
        "plt.imshow(X_validation[0])\n",
        "plt.show()"
      ]
    },
    {
      "cell_type": "code",
      "execution_count": null,
      "metadata": {
        "id": "AtMcusTh-3Xc"
      },
      "outputs": [],
      "source": [
        "input_image_path = input('path of image for prediction')\n",
        "\n",
        "input_image = cv2.imread(input_image_path)\n",
        "\n",
        "plt.imshow(input_image)\n",
        "plt.show()\n",
        "\n",
        "grayscale = cv2.cvtColor(input_image, cv2.COLOR_RGB2GRAY)\n",
        "\n",
        "input_image_resize = cv2.resize(grayscale, (28, 28))\n",
        "\n",
        "input_image_resize = input_image_resize/255\n",
        "\n",
        "image_reshaped = np.expand_dims(input_image_resize, axis=(0, -1))\n",
        "\n",
        "input_prediction = cnn_model.predict(image_reshaped)\n",
        "\n",
        "input_pred_label = np.argmax(input_prediction)\n",
        "\n",
        "\n",
        "def convert_to_base62(num):\n",
        "    if num < 10:\n",
        "        return str(num)\n",
        "    elif num < 36:\n",
        "        return chr(num + 55)\n",
        "    elif num < 62:\n",
        "        return chr(num + 61)\n",
        "    else:\n",
        "        return None\n",
        "\n",
        "\n",
        "print('The character is predicted to be', convert_to_base62(input_pred_label))"
      ]
    }
  ],
  "metadata": {
    "colab": {
      "provenance": []
    },
    "kernelspec": {
      "display_name": "Python 3",
      "name": "python3"
    },
    "language_info": {
      "codemirror_mode": {
        "name": "ipython",
        "version": 3
      },
      "file_extension": ".py",
      "mimetype": "text/x-python",
      "name": "python",
      "nbconvert_exporter": "python",
      "pygments_lexer": "ipython3",
      "version": "3.8.7"
    }
  },
  "nbformat": 4,
  "nbformat_minor": 0
}
